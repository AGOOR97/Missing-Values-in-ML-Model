{
 "cells": [
  {
   "cell_type": "markdown",
   "id": "dff5f22d",
   "metadata": {},
   "source": [
    "## This Notebook is to summarize Notes about Machine Learning Model\n",
    "## for How to deal with Missing Values in Dataset"
   ]
  },
  {
   "cell_type": "markdown",
   "id": "8884ae0e",
   "metadata": {},
   "source": [
    "### ====================================================================="
   ]
  },
  {
   "cell_type": "markdown",
   "id": "6ce4763e",
   "metadata": {},
   "source": [
    "### By : Mohammed Agoor\n",
    "\n",
    "Git : https://github.com/AGOOR97"
   ]
  },
  {
   "cell_type": "markdown",
   "id": "99276d55",
   "metadata": {},
   "source": [
    "#### ============================= Coded By AGOOR ==================================="
   ]
  },
  {
   "cell_type": "code",
   "execution_count": 1,
   "id": "5eebd026",
   "metadata": {},
   "outputs": [],
   "source": [
    "import pandas as pd\n",
    "\n",
    "# importing the total Library and import its methods below to know what we use\n",
    "import sklearn as sk   \n",
    "from sklearn.ensemble import RandomForestRegressor\n",
    "from sklearn.metrics import mean_absolute_error\n",
    "from sklearn.model_selection import train_test_split\n",
    "from sklearn.preprocessing import LabelEncoder\n",
    "from sklearn.impute import SimpleImputer\n"
   ]
  },
  {
   "cell_type": "code",
   "execution_count": 2,
   "id": "2fd18956",
   "metadata": {},
   "outputs": [],
   "source": [
    "house = pd.read_csv('house_dataset.csv')"
   ]
  },
  {
   "cell_type": "code",
   "execution_count": 3,
   "id": "981107a7",
   "metadata": {},
   "outputs": [],
   "source": [
    "# to make a simple Model \n",
    "# you can take only a few Numerical Features and Assign to X\n",
    "# take a target as a Prcie and assign its Value to y\n",
    "# drop all columns with NaN Values"
   ]
  },
  {
   "cell_type": "markdown",
   "id": "460f1bd6",
   "metadata": {},
   "source": [
    "### Simple Model\n"
   ]
  },
  {
   "cell_type": "code",
   "execution_count": 4,
   "id": "3b92181c",
   "metadata": {},
   "outputs": [],
   "source": [
    "house_dropped = house.dropna(axis = 0)"
   ]
  },
  {
   "cell_type": "code",
   "execution_count": 5,
   "id": "6f2b0861",
   "metadata": {},
   "outputs": [],
   "source": [
    "y = house_dropped.Price\n",
    "\n",
    "features = ['Rooms', 'Bathroom', 'Landsize', 'Lattitude', 'Longtitude']\n",
    "X = house_dropped[features]"
   ]
  },
  {
   "cell_type": "code",
   "execution_count": 6,
   "id": "a336e87b",
   "metadata": {},
   "outputs": [],
   "source": [
    "train_x,val_x,train_y,val_y = sk.model_selection.train_test_split(X,y\n",
    "                                                                  ,train_size = 0.8,\n",
    "                                                                  test_size = 0.2\n",
    "                                                                  ,random_state=0)\n"
   ]
  },
  {
   "cell_type": "code",
   "execution_count": 7,
   "id": "de94c138",
   "metadata": {},
   "outputs": [],
   "source": [
    "## Define the function which returrns the MAE under requtires N of Leaves\n",
    "def getMAE(leaf_nodes,train_x_sent,val_x_sent,train_y_sent,val_y_sent):\n",
    "    '''this function is made to return MAE uder diffrent Number of Leaves'''\n",
    "    model = sk.ensemble.RandomForestRegressor(n_estimators = leaf_nodes,random_state = 0)\n",
    "    model.fit(train_x_sent,train_y_sent)\n",
    "    pred = model.predict(val_x_sent)\n",
    "    mae_cal = mean_absolute_error(pred,val_y_sent)\n",
    "    return mae_cal"
   ]
  },
  {
   "cell_type": "code",
   "execution_count": 8,
   "id": "26991722",
   "metadata": {},
   "outputs": [
    {
     "name": "stdout",
     "output_type": "stream",
     "text": [
      "MAE under old Calculations : \n",
      " 202281.60010023043\n"
     ]
    }
   ],
   "source": [
    "old_model = getMAE(100,train_x,val_x,train_y,val_y)\n",
    "\n",
    "print('MAE under old Calculations : \\n' , old_model)"
   ]
  },
  {
   "cell_type": "markdown",
   "id": "b0d576b6",
   "metadata": {},
   "source": [
    "### ====================================================================="
   ]
  },
  {
   "cell_type": "markdown",
   "id": "09f4645f",
   "metadata": {},
   "source": [
    "## NewValues Models dealing with Missing Values"
   ]
  },
  {
   "cell_type": "markdown",
   "id": "258ceb62",
   "metadata": {},
   "source": [
    "### Firstly : Missing Values"
   ]
  },
  {
   "cell_type": "markdown",
   "id": "aad38140",
   "metadata": {},
   "source": [
    "### Your Options are :\n",
    "#### 1- drop these columns as we did before\n",
    "#### 2- impute these columns "
   ]
  },
  {
   "cell_type": "markdown",
   "id": "d58e5c6a",
   "metadata": {},
   "source": [
    "#### Firstly : I will deal by dropping Columns which have null values"
   ]
  },
  {
   "cell_type": "code",
   "execution_count": 9,
   "id": "7741a6de",
   "metadata": {},
   "outputs": [],
   "source": [
    "# target Value\n",
    "y = house.Price\n",
    "\n",
    "# drop price column from features table\n",
    "features_drop_Price = house.drop(['Price'] , axis = 1)\n",
    "\n",
    "# Here, I am dealing only with Numerical Values not Categorical Ones ,\n",
    "# So, I will drop Categorical Values that have (object) types\n",
    "X_features = features_drop_Price.select_dtypes(exclude = 'object')"
   ]
  },
  {
   "cell_type": "code",
   "execution_count": 10,
   "id": "22e510a5",
   "metadata": {},
   "outputs": [],
   "source": [
    "# divide data\n",
    "\n",
    "train_x,val_x,train_y,val_y = sk.model_selection.train_test_split(X_features,y\n",
    "                                                                  ,train_size = 0.8,\n",
    "                                                                  test_size = 0.2\n",
    "                                                                  ,random_state=0)\n"
   ]
  },
  {
   "cell_type": "code",
   "execution_count": 11,
   "id": "851b9526",
   "metadata": {},
   "outputs": [],
   "source": [
    "# after dropping categorical cols ,  get cols with missing values and also drop them\n",
    "\n",
    "cols_miss_values = [col for col in train_x.columns if train_x[col].isnull().any()]                   "
   ]
  },
  {
   "cell_type": "code",
   "execution_count": 12,
   "id": "918a7e71",
   "metadata": {},
   "outputs": [
    {
     "name": "stdout",
     "output_type": "stream",
     "text": [
      "cols with missing values in it , I will drop them \n",
      " ['Car', 'BuildingArea', 'YearBuilt']\n"
     ]
    }
   ],
   "source": [
    "print('cols with missing values in it , I will drop them \\n',cols_miss_values)"
   ]
  },
  {
   "cell_type": "code",
   "execution_count": 13,
   "id": "4aa88515",
   "metadata": {},
   "outputs": [],
   "source": [
    "# the training final data after dropping categorical Cols and Numerical which have missing Values\n",
    "train_x_dropped = train_x.drop(cols_miss_values , axis = 1)\n",
    "val_x_dropped = val_x.drop(cols_miss_values , axis = 1)"
   ]
  },
  {
   "cell_type": "code",
   "execution_count": 14,
   "id": "c10b0f6d",
   "metadata": {},
   "outputs": [
    {
     "name": "stdout",
     "output_type": "stream",
     "text": [
      "MAE after dropping categorical Cols and Numerical which have missing Values (Approach 1):\n",
      " 175733.2014838971\n"
     ]
    }
   ],
   "source": [
    "# MAE after dropping categorical Cols and Numerical which have missing Values\n",
    "mae_drop_categ_missNum = getMAE(150,train_x_dropped,val_x_dropped,train_y,val_y)\n",
    "print('MAE after dropping categorical Cols and Numerical which have missing Values (Approach 1):\\n',\n",
    "                                                     mae_drop_categ_missNum)"
   ]
  },
  {
   "cell_type": "markdown",
   "id": "9ead4f51",
   "metadata": {},
   "source": [
    "### ====================================================================="
   ]
  },
  {
   "cell_type": "markdown",
   "id": "5aa66505",
   "metadata": {},
   "source": [
    "#### Secondly : I will deal by - Imputation - Imputing (average)"
   ]
  },
  {
   "cell_type": "code",
   "execution_count": 15,
   "id": "0bdad915",
   "metadata": {},
   "outputs": [],
   "source": [
    "\n",
    "my_emputer = sk.impute.SimpleImputer()"
   ]
  },
  {
   "cell_type": "code",
   "execution_count": 16,
   "id": "00cbb32c",
   "metadata": {},
   "outputs": [
    {
     "data": {
      "text/html": [
       "<div>\n",
       "<style scoped>\n",
       "    .dataframe tbody tr th:only-of-type {\n",
       "        vertical-align: middle;\n",
       "    }\n",
       "\n",
       "    .dataframe tbody tr th {\n",
       "        vertical-align: top;\n",
       "    }\n",
       "\n",
       "    .dataframe thead th {\n",
       "        text-align: right;\n",
       "    }\n",
       "</style>\n",
       "<table border=\"1\" class=\"dataframe\">\n",
       "  <thead>\n",
       "    <tr style=\"text-align: right;\">\n",
       "      <th></th>\n",
       "      <th>Rooms</th>\n",
       "      <th>Distance</th>\n",
       "      <th>Postcode</th>\n",
       "      <th>Bedroom2</th>\n",
       "      <th>Bathroom</th>\n",
       "      <th>Car</th>\n",
       "      <th>Landsize</th>\n",
       "      <th>BuildingArea</th>\n",
       "      <th>YearBuilt</th>\n",
       "      <th>Lattitude</th>\n",
       "      <th>Longtitude</th>\n",
       "      <th>Propertycount</th>\n",
       "    </tr>\n",
       "  </thead>\n",
       "  <tbody>\n",
       "    <tr>\n",
       "      <th>12167</th>\n",
       "      <td>1</td>\n",
       "      <td>5.0</td>\n",
       "      <td>3182.0</td>\n",
       "      <td>1.0</td>\n",
       "      <td>1.0</td>\n",
       "      <td>1.0</td>\n",
       "      <td>0.0</td>\n",
       "      <td>NaN</td>\n",
       "      <td>1940.0</td>\n",
       "      <td>-37.85984</td>\n",
       "      <td>144.9867</td>\n",
       "      <td>13240.0</td>\n",
       "    </tr>\n",
       "    <tr>\n",
       "      <th>6524</th>\n",
       "      <td>2</td>\n",
       "      <td>8.0</td>\n",
       "      <td>3016.0</td>\n",
       "      <td>2.0</td>\n",
       "      <td>2.0</td>\n",
       "      <td>1.0</td>\n",
       "      <td>193.0</td>\n",
       "      <td>NaN</td>\n",
       "      <td>NaN</td>\n",
       "      <td>-37.85800</td>\n",
       "      <td>144.9005</td>\n",
       "      <td>6380.0</td>\n",
       "    </tr>\n",
       "    <tr>\n",
       "      <th>8413</th>\n",
       "      <td>3</td>\n",
       "      <td>12.6</td>\n",
       "      <td>3020.0</td>\n",
       "      <td>3.0</td>\n",
       "      <td>1.0</td>\n",
       "      <td>1.0</td>\n",
       "      <td>555.0</td>\n",
       "      <td>NaN</td>\n",
       "      <td>NaN</td>\n",
       "      <td>-37.79880</td>\n",
       "      <td>144.8220</td>\n",
       "      <td>3755.0</td>\n",
       "    </tr>\n",
       "    <tr>\n",
       "      <th>2919</th>\n",
       "      <td>3</td>\n",
       "      <td>13.0</td>\n",
       "      <td>3046.0</td>\n",
       "      <td>3.0</td>\n",
       "      <td>1.0</td>\n",
       "      <td>1.0</td>\n",
       "      <td>265.0</td>\n",
       "      <td>NaN</td>\n",
       "      <td>1995.0</td>\n",
       "      <td>-37.70830</td>\n",
       "      <td>144.9158</td>\n",
       "      <td>8870.0</td>\n",
       "    </tr>\n",
       "    <tr>\n",
       "      <th>6043</th>\n",
       "      <td>3</td>\n",
       "      <td>13.3</td>\n",
       "      <td>3020.0</td>\n",
       "      <td>3.0</td>\n",
       "      <td>1.0</td>\n",
       "      <td>2.0</td>\n",
       "      <td>673.0</td>\n",
       "      <td>673.0</td>\n",
       "      <td>1970.0</td>\n",
       "      <td>-37.76230</td>\n",
       "      <td>144.8272</td>\n",
       "      <td>4217.0</td>\n",
       "    </tr>\n",
       "  </tbody>\n",
       "</table>\n",
       "</div>"
      ],
      "text/plain": [
       "       Rooms  Distance  Postcode  Bedroom2  Bathroom  Car  Landsize  \\\n",
       "12167      1       5.0    3182.0       1.0       1.0  1.0       0.0   \n",
       "6524       2       8.0    3016.0       2.0       2.0  1.0     193.0   \n",
       "8413       3      12.6    3020.0       3.0       1.0  1.0     555.0   \n",
       "2919       3      13.0    3046.0       3.0       1.0  1.0     265.0   \n",
       "6043       3      13.3    3020.0       3.0       1.0  2.0     673.0   \n",
       "\n",
       "       BuildingArea  YearBuilt  Lattitude  Longtitude  Propertycount  \n",
       "12167           NaN     1940.0  -37.85984    144.9867        13240.0  \n",
       "6524            NaN        NaN  -37.85800    144.9005         6380.0  \n",
       "8413            NaN        NaN  -37.79880    144.8220         3755.0  \n",
       "2919            NaN     1995.0  -37.70830    144.9158         8870.0  \n",
       "6043          673.0     1970.0  -37.76230    144.8272         4217.0  "
      ]
     },
     "execution_count": 16,
     "metadata": {},
     "output_type": "execute_result"
    }
   ],
   "source": [
    "# data before imputation\n",
    "train_x.head()"
   ]
  },
  {
   "cell_type": "code",
   "execution_count": 17,
   "id": "ce53d75d",
   "metadata": {},
   "outputs": [
    {
     "data": {
      "text/html": [
       "<div>\n",
       "<style scoped>\n",
       "    .dataframe tbody tr th:only-of-type {\n",
       "        vertical-align: middle;\n",
       "    }\n",
       "\n",
       "    .dataframe tbody tr th {\n",
       "        vertical-align: top;\n",
       "    }\n",
       "\n",
       "    .dataframe thead th {\n",
       "        text-align: right;\n",
       "    }\n",
       "</style>\n",
       "<table border=\"1\" class=\"dataframe\">\n",
       "  <thead>\n",
       "    <tr style=\"text-align: right;\">\n",
       "      <th></th>\n",
       "      <th>0</th>\n",
       "      <th>1</th>\n",
       "      <th>2</th>\n",
       "      <th>3</th>\n",
       "      <th>4</th>\n",
       "      <th>5</th>\n",
       "      <th>6</th>\n",
       "      <th>7</th>\n",
       "      <th>8</th>\n",
       "      <th>9</th>\n",
       "      <th>10</th>\n",
       "      <th>11</th>\n",
       "    </tr>\n",
       "  </thead>\n",
       "  <tbody>\n",
       "    <tr>\n",
       "      <th>0</th>\n",
       "      <td>1.0</td>\n",
       "      <td>5.0</td>\n",
       "      <td>3182.0</td>\n",
       "      <td>1.0</td>\n",
       "      <td>1.0</td>\n",
       "      <td>1.0</td>\n",
       "      <td>0.0</td>\n",
       "      <td>153.764119</td>\n",
       "      <td>1940.000000</td>\n",
       "      <td>-37.85984</td>\n",
       "      <td>144.9867</td>\n",
       "      <td>13240.0</td>\n",
       "    </tr>\n",
       "    <tr>\n",
       "      <th>1</th>\n",
       "      <td>2.0</td>\n",
       "      <td>8.0</td>\n",
       "      <td>3016.0</td>\n",
       "      <td>2.0</td>\n",
       "      <td>2.0</td>\n",
       "      <td>1.0</td>\n",
       "      <td>193.0</td>\n",
       "      <td>153.764119</td>\n",
       "      <td>1964.839866</td>\n",
       "      <td>-37.85800</td>\n",
       "      <td>144.9005</td>\n",
       "      <td>6380.0</td>\n",
       "    </tr>\n",
       "    <tr>\n",
       "      <th>2</th>\n",
       "      <td>3.0</td>\n",
       "      <td>12.6</td>\n",
       "      <td>3020.0</td>\n",
       "      <td>3.0</td>\n",
       "      <td>1.0</td>\n",
       "      <td>1.0</td>\n",
       "      <td>555.0</td>\n",
       "      <td>153.764119</td>\n",
       "      <td>1964.839866</td>\n",
       "      <td>-37.79880</td>\n",
       "      <td>144.8220</td>\n",
       "      <td>3755.0</td>\n",
       "    </tr>\n",
       "    <tr>\n",
       "      <th>3</th>\n",
       "      <td>3.0</td>\n",
       "      <td>13.0</td>\n",
       "      <td>3046.0</td>\n",
       "      <td>3.0</td>\n",
       "      <td>1.0</td>\n",
       "      <td>1.0</td>\n",
       "      <td>265.0</td>\n",
       "      <td>153.764119</td>\n",
       "      <td>1995.000000</td>\n",
       "      <td>-37.70830</td>\n",
       "      <td>144.9158</td>\n",
       "      <td>8870.0</td>\n",
       "    </tr>\n",
       "    <tr>\n",
       "      <th>4</th>\n",
       "      <td>3.0</td>\n",
       "      <td>13.3</td>\n",
       "      <td>3020.0</td>\n",
       "      <td>3.0</td>\n",
       "      <td>1.0</td>\n",
       "      <td>2.0</td>\n",
       "      <td>673.0</td>\n",
       "      <td>673.000000</td>\n",
       "      <td>1970.000000</td>\n",
       "      <td>-37.76230</td>\n",
       "      <td>144.8272</td>\n",
       "      <td>4217.0</td>\n",
       "    </tr>\n",
       "  </tbody>\n",
       "</table>\n",
       "</div>"
      ],
      "text/plain": [
       "    0     1       2    3    4    5      6           7            8         9   \\\n",
       "0  1.0   5.0  3182.0  1.0  1.0  1.0    0.0  153.764119  1940.000000 -37.85984   \n",
       "1  2.0   8.0  3016.0  2.0  2.0  1.0  193.0  153.764119  1964.839866 -37.85800   \n",
       "2  3.0  12.6  3020.0  3.0  1.0  1.0  555.0  153.764119  1964.839866 -37.79880   \n",
       "3  3.0  13.0  3046.0  3.0  1.0  1.0  265.0  153.764119  1995.000000 -37.70830   \n",
       "4  3.0  13.3  3020.0  3.0  1.0  2.0  673.0  673.000000  1970.000000 -37.76230   \n",
       "\n",
       "         10       11  \n",
       "0  144.9867  13240.0  \n",
       "1  144.9005   6380.0  \n",
       "2  144.8220   3755.0  \n",
       "3  144.9158   8870.0  \n",
       "4  144.8272   4217.0  "
      ]
     },
     "execution_count": 17,
     "metadata": {},
     "output_type": "execute_result"
    }
   ],
   "source": [
    "# imputation \n",
    "impute_train_x = pd.DataFrame(my_emputer.fit_transform(train_x))\n",
    "impute_val_x = pd.DataFrame(my_emputer.transform(val_x))\n",
    "\n",
    "\n",
    "# data after imputation  , imputation removes index of DataFarme\n",
    "impute_train_x.head()"
   ]
  },
  {
   "cell_type": "code",
   "execution_count": 18,
   "id": "b7a638e0",
   "metadata": {},
   "outputs": [
    {
     "data": {
      "text/html": [
       "<div>\n",
       "<style scoped>\n",
       "    .dataframe tbody tr th:only-of-type {\n",
       "        vertical-align: middle;\n",
       "    }\n",
       "\n",
       "    .dataframe tbody tr th {\n",
       "        vertical-align: top;\n",
       "    }\n",
       "\n",
       "    .dataframe thead th {\n",
       "        text-align: right;\n",
       "    }\n",
       "</style>\n",
       "<table border=\"1\" class=\"dataframe\">\n",
       "  <thead>\n",
       "    <tr style=\"text-align: right;\">\n",
       "      <th></th>\n",
       "      <th>Rooms</th>\n",
       "      <th>Distance</th>\n",
       "      <th>Postcode</th>\n",
       "      <th>Bedroom2</th>\n",
       "      <th>Bathroom</th>\n",
       "      <th>Car</th>\n",
       "      <th>Landsize</th>\n",
       "      <th>BuildingArea</th>\n",
       "      <th>YearBuilt</th>\n",
       "      <th>Lattitude</th>\n",
       "      <th>Longtitude</th>\n",
       "      <th>Propertycount</th>\n",
       "    </tr>\n",
       "  </thead>\n",
       "  <tbody>\n",
       "    <tr>\n",
       "      <th>0</th>\n",
       "      <td>1.0</td>\n",
       "      <td>5.0</td>\n",
       "      <td>3182.0</td>\n",
       "      <td>1.0</td>\n",
       "      <td>1.0</td>\n",
       "      <td>1.0</td>\n",
       "      <td>0.0</td>\n",
       "      <td>153.764119</td>\n",
       "      <td>1940.000000</td>\n",
       "      <td>-37.85984</td>\n",
       "      <td>144.9867</td>\n",
       "      <td>13240.0</td>\n",
       "    </tr>\n",
       "    <tr>\n",
       "      <th>1</th>\n",
       "      <td>2.0</td>\n",
       "      <td>8.0</td>\n",
       "      <td>3016.0</td>\n",
       "      <td>2.0</td>\n",
       "      <td>2.0</td>\n",
       "      <td>1.0</td>\n",
       "      <td>193.0</td>\n",
       "      <td>153.764119</td>\n",
       "      <td>1964.839866</td>\n",
       "      <td>-37.85800</td>\n",
       "      <td>144.9005</td>\n",
       "      <td>6380.0</td>\n",
       "    </tr>\n",
       "    <tr>\n",
       "      <th>2</th>\n",
       "      <td>3.0</td>\n",
       "      <td>12.6</td>\n",
       "      <td>3020.0</td>\n",
       "      <td>3.0</td>\n",
       "      <td>1.0</td>\n",
       "      <td>1.0</td>\n",
       "      <td>555.0</td>\n",
       "      <td>153.764119</td>\n",
       "      <td>1964.839866</td>\n",
       "      <td>-37.79880</td>\n",
       "      <td>144.8220</td>\n",
       "      <td>3755.0</td>\n",
       "    </tr>\n",
       "    <tr>\n",
       "      <th>3</th>\n",
       "      <td>3.0</td>\n",
       "      <td>13.0</td>\n",
       "      <td>3046.0</td>\n",
       "      <td>3.0</td>\n",
       "      <td>1.0</td>\n",
       "      <td>1.0</td>\n",
       "      <td>265.0</td>\n",
       "      <td>153.764119</td>\n",
       "      <td>1995.000000</td>\n",
       "      <td>-37.70830</td>\n",
       "      <td>144.9158</td>\n",
       "      <td>8870.0</td>\n",
       "    </tr>\n",
       "    <tr>\n",
       "      <th>4</th>\n",
       "      <td>3.0</td>\n",
       "      <td>13.3</td>\n",
       "      <td>3020.0</td>\n",
       "      <td>3.0</td>\n",
       "      <td>1.0</td>\n",
       "      <td>2.0</td>\n",
       "      <td>673.0</td>\n",
       "      <td>673.000000</td>\n",
       "      <td>1970.000000</td>\n",
       "      <td>-37.76230</td>\n",
       "      <td>144.8272</td>\n",
       "      <td>4217.0</td>\n",
       "    </tr>\n",
       "  </tbody>\n",
       "</table>\n",
       "</div>"
      ],
      "text/plain": [
       "   Rooms  Distance  Postcode  Bedroom2  Bathroom  Car  Landsize  BuildingArea  \\\n",
       "0    1.0       5.0    3182.0       1.0       1.0  1.0       0.0    153.764119   \n",
       "1    2.0       8.0    3016.0       2.0       2.0  1.0     193.0    153.764119   \n",
       "2    3.0      12.6    3020.0       3.0       1.0  1.0     555.0    153.764119   \n",
       "3    3.0      13.0    3046.0       3.0       1.0  1.0     265.0    153.764119   \n",
       "4    3.0      13.3    3020.0       3.0       1.0  2.0     673.0    673.000000   \n",
       "\n",
       "     YearBuilt  Lattitude  Longtitude  Propertycount  \n",
       "0  1940.000000  -37.85984    144.9867        13240.0  \n",
       "1  1964.839866  -37.85800    144.9005         6380.0  \n",
       "2  1964.839866  -37.79880    144.8220         3755.0  \n",
       "3  1995.000000  -37.70830    144.9158         8870.0  \n",
       "4  1970.000000  -37.76230    144.8272         4217.0  "
      ]
     },
     "execution_count": 18,
     "metadata": {},
     "output_type": "execute_result"
    }
   ],
   "source": [
    "# return cols Names to DataFrame\n",
    "\n",
    "impute_train_x.columns = train_x.columns\n",
    "impute_val_x.columns = val_x.columns\n",
    "\n",
    "\n",
    "impute_train_x.head()"
   ]
  },
  {
   "cell_type": "code",
   "execution_count": 19,
   "id": "ce7a0b4e",
   "metadata": {},
   "outputs": [
    {
     "name": "stdout",
     "output_type": "stream",
     "text": [
      "MAE usign imputation (Approach 2) : \n",
      " 178166.46269899711\n"
     ]
    }
   ],
   "source": [
    "# Now , we almost done , Imputuion done , dropping categorical values is done in the first\n",
    "\n",
    "mae_imputation = getMAE(10,impute_train_x,impute_val_x,train_y,val_y)\n",
    "\n",
    "print('MAE usign imputation (Approach 2) : \\n' , mae_imputation)"
   ]
  },
  {
   "cell_type": "markdown",
   "id": "8080449a",
   "metadata": {},
   "source": [
    "####  =========================================================================================="
   ]
  }
 ],
 "metadata": {
  "kernelspec": {
   "display_name": "Python 3",
   "language": "python",
   "name": "python3"
  },
  "language_info": {
   "codemirror_mode": {
    "name": "ipython",
    "version": 3
   },
   "file_extension": ".py",
   "mimetype": "text/x-python",
   "name": "python",
   "nbconvert_exporter": "python",
   "pygments_lexer": "ipython3",
   "version": "3.8.8"
  }
 },
 "nbformat": 4,
 "nbformat_minor": 5
}
